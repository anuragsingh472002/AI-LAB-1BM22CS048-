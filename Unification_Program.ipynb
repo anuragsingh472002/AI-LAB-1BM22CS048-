{
  "nbformat": 4,
  "nbformat_minor": 0,
  "metadata": {
    "colab": {
      "provenance": [],
      "authorship_tag": "ABX9TyNPxcloMtUKUUFWjqH4EfPu",
      "include_colab_link": true
    },
    "kernelspec": {
      "name": "python3",
      "display_name": "Python 3"
    },
    "language_info": {
      "name": "python"
    }
  },
  "cells": [
    {
      "cell_type": "markdown",
      "metadata": {
        "id": "view-in-github",
        "colab_type": "text"
      },
      "source": [
        "<a href=\"https://colab.research.google.com/github/anuragsingh472002/AI-LAB-1BM22CS048-/blob/main/Unification_Program.ipynb\" target=\"_parent\"><img src=\"https://colab.research.google.com/assets/colab-badge.svg\" alt=\"Open In Colab\"/></a>"
      ]
    },
    {
      "cell_type": "code",
      "execution_count": 4,
      "metadata": {
        "colab": {
          "base_uri": "https://localhost:8080/"
        },
        "id": "VRtRRCs2Spi5",
        "outputId": "c9b9a9d3-60c7-42d4-9d27-bfc37c82f86a"
      },
      "outputs": [
        {
          "output_type": "stream",
          "name": "stdout",
          "text": [
            "Substitution: {'x': 'ANURAG', 'y': '10 KM'}\n"
          ]
        }
      ],
      "source": [
        "def is_variable(term):\n",
        "\n",
        "    return isinstance(term, str) and term.islower()\n",
        "\n",
        "def unify(x, y, substitution={}):\n",
        "\n",
        "    if substitution is None:\n",
        "        return None\n",
        "\n",
        "    if x == y:\n",
        "        return substitution\n",
        "\n",
        "\n",
        "    if is_variable(x):\n",
        "        return unify_var(x, y, substitution)\n",
        "\n",
        "\n",
        "    if is_variable(y):\n",
        "        return unify_var(y, x, substitution)\n",
        "\n",
        "\n",
        "    if isinstance(x, tuple) and isinstance(y, tuple):\n",
        "        return unify(x[1:], y[1:], unify(x[0], y[0], substitution))\n",
        "\n",
        "    return None\n",
        "\n",
        "def unify_var(var, term, substitution):\n",
        "\n",
        "    if var in substitution:\n",
        "        return unify(substitution[var], term, substitution)\n",
        "\n",
        "    if term == var:\n",
        "        return None\n",
        "\n",
        "    substitution[var] = term\n",
        "    return substitution\n",
        "expr1 = ('RUNNING', 'x', '10 KM') #example expression\n",
        "expr2 = ('RUNNING', 'ANURAG', 'y')\n",
        "\n",
        "substitution = unify(expr1, expr2)\n",
        "print(\"Substitution:\", substitution)"
      ]
    }
  ]
}