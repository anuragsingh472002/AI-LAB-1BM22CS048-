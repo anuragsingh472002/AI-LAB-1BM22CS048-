{
  "nbformat": 4,
  "nbformat_minor": 0,
  "metadata": {
    "colab": {
      "provenance": [],
      "authorship_tag": "ABX9TyMV2akBrCAsU3FQKuqjQ3j7",
      "include_colab_link": true
    },
    "kernelspec": {
      "name": "python3",
      "display_name": "Python 3"
    },
    "language_info": {
      "name": "python"
    }
  },
  "cells": [
    {
      "cell_type": "markdown",
      "metadata": {
        "id": "view-in-github",
        "colab_type": "text"
      },
      "source": [
        "<a href=\"https://colab.research.google.com/github/anuragsingh472002/AI-LAB-1BM22CS048-/blob/main/1BM22CS048_KNOWLEDGE_BASE_PROPOSITIONAL.ipynb\" target=\"_parent\"><img src=\"https://colab.research.google.com/assets/colab-badge.svg\" alt=\"Open In Colab\"/></a>"
      ]
    },
    {
      "cell_type": "code",
      "execution_count": 3,
      "metadata": {
        "colab": {
          "base_uri": "https://localhost:8080/",
          "height": 408
        },
        "id": "QHqS4itoktWc",
        "outputId": "1f920d04-97f4-483f-d823-33bb63a6eb84"
      },
      "outputs": [
        {
          "name": "stdout",
          "output_type": "stream",
          "text": [
            "Enter your knowledge base sentences and query:\n",
            "Knowledge Base Sentence 1 (e.g., 'P AND Q'): Q->P\n",
            "Knowledge Base Sentence 2 (e.g., 'Q OR R'): P->~Q\n",
            "Knowledge Base Sentence 3 (e.g., 'R IMPLIES P'): Q&R\n",
            "Query (e.g., 'P'): Q->R\n"
          ]
        },
        {
          "output_type": "error",
          "ename": "SyntaxError",
          "evalue": "invalid syntax (<string>, line 1)",
          "traceback": [
            "Traceback \u001b[0;36m(most recent call last)\u001b[0m:\n",
            "  File \u001b[1;32m\"/usr/local/lib/python3.10/dist-packages/IPython/core/interactiveshell.py\"\u001b[0m, line \u001b[1;32m3553\u001b[0m, in \u001b[1;35mrun_code\u001b[0m\n    exec(code_obj, self.user_global_ns, self.user_ns)\n",
            "  File \u001b[1;32m\"<ipython-input-3-ccbec8f0f761>\"\u001b[0m, line \u001b[1;32m80\u001b[0m, in \u001b[1;35m<cell line: 79>\u001b[0m\n    main()\n",
            "  File \u001b[1;32m\"<ipython-input-3-ccbec8f0f761>\"\u001b[0m, line \u001b[1;32m73\u001b[0m, in \u001b[1;35mmain\u001b[0m\n    if entails(kb, parsed_query):\n",
            "  File \u001b[1;32m\"<ipython-input-3-ccbec8f0f761>\"\u001b[0m, line \u001b[1;32m44\u001b[0m, in \u001b[1;35mentails\u001b[0m\n    kb_result = evaluate_expression(kb, assignment_dict)\n",
            "\u001b[0;36m  File \u001b[0;32m\"<ipython-input-3-ccbec8f0f761>\"\u001b[0;36m, line \u001b[0;32m24\u001b[0;36m, in \u001b[0;35mevaluate_expression\u001b[0;36m\u001b[0m\n\u001b[0;31m    return eval(expr)\u001b[0m\n",
            "\u001b[0;36m  File \u001b[0;32m\"<string>\"\u001b[0;36m, line \u001b[0;32m1\u001b[0m\n\u001b[0;31m    (False->False) FalseFalseFalse (False->~False) FalseFalseFalse (False&False)\u001b[0m\n\u001b[0m          ^\u001b[0m\n\u001b[0;31mSyntaxError\u001b[0m\u001b[0;31m:\u001b[0m invalid syntax\n"
          ]
        }
      ],
      "source": [
        "import itertools\n",
        "\n",
        "# Function to parse logical expressions in propositional logic\n",
        "def parse_expression(expr):\n",
        "    \"\"\"\n",
        "    This function parses a propositional logic expression and returns\n",
        "    a function that can be evaluated with a given set of truth assignments.\n",
        "    \"\"\"\n",
        "    # Replace logical operators with Python's logical equivalents\n",
        "    expr = expr.replace(\"AND\", \"&\").replace(\"OR\", \"|\").replace(\"NOT\", \"~\").replace(\"IMPLIES\", \"->\")\n",
        "    return expr\n",
        "\n",
        "# Evaluate the expression with a given assignment\n",
        "def evaluate_expression(expr, assignment):\n",
        "    \"\"\"\n",
        "    Evaluates a propositional logic expression using the given truth assignment.\n",
        "    \"\"\"\n",
        "    # Replace each variable with its truth value in the expression\n",
        "    for var, val in assignment.items():\n",
        "        expr = expr.replace(var, str(val))\n",
        "\n",
        "    # Evaluate the expression using Python's eval function\n",
        "    # We use eval with caution here since we are only evaluating safe expressions\n",
        "    return eval(expr)\n",
        "\n",
        "# Generate all possible truth assignments for the variables in the knowledge base\n",
        "def generate_truth_assignments(variables):\n",
        "    return list(itertools.product([False, True], repeat=len(variables)))\n",
        "\n",
        "# Check if the knowledge base entails the query\n",
        "def entails(kb, query):\n",
        "    # Extract variables from the knowledge base and the query\n",
        "    # Using a set to collect variables from both KB and query\n",
        "    variables = set([var for var in kb + query if var.isalpha()])\n",
        "\n",
        "    # Generate all possible truth assignments for the variables\n",
        "    truth_assignments = generate_truth_assignments(variables)\n",
        "\n",
        "    for assignment in truth_assignments:\n",
        "        # Convert the assignment into a dictionary for easy access\n",
        "        assignment_dict = dict(zip(variables, assignment))\n",
        "\n",
        "        # Evaluate the knowledge base and the query\n",
        "        kb_result = evaluate_expression(kb, assignment_dict)\n",
        "        query_result = evaluate_expression(query, assignment_dict)\n",
        "\n",
        "        # If KB is True and Query is False, the knowledge base does not entail the query\n",
        "        if kb_result and not query_result:\n",
        "            return False\n",
        "\n",
        "    # If for all assignments where KB is True, Query is also True, return True\n",
        "    return True\n",
        "\n",
        "# Main function to get the knowledge base and query from the user\n",
        "def main():\n",
        "    print(\"Enter your knowledge base sentences and query:\")\n",
        "\n",
        "    # Input 3 knowledge base sentences\n",
        "    kb1 = input(\"Knowledge Base Sentence 1 (e.g., 'P AND Q'): \")\n",
        "    kb2 = input(\"Knowledge Base Sentence 2 (e.g., 'Q OR R'): \")\n",
        "    kb3 = input(\"Knowledge Base Sentence 3 (e.g., 'R IMPLIES P'): \")\n",
        "\n",
        "    # Input the query\n",
        "    query = input(\"Query (e.g., 'P'): \")\n",
        "\n",
        "    # Combine the knowledge base sentences into one conjunction\n",
        "    kb = f\"({parse_expression(kb1)}) AND ({parse_expression(kb2)}) AND ({parse_expression(kb3)})\"\n",
        "\n",
        "    # Parse the query\n",
        "    parsed_query = parse_expression(query)\n",
        "\n",
        "    # Check if the knowledge base entails the query\n",
        "    if entails(kb, parsed_query):\n",
        "        print(\"The knowledge base entails the query.\")\n",
        "    else:\n",
        "        print(\"The knowledge base does not entail the query.\")\n",
        "\n",
        "# Run the main function\n",
        "if __name__ == \"__main__\":\n",
        "    main()\n"
      ]
    },
    {
      "cell_type": "code",
      "source": [
        "): Q->P\n",
        "Knowledge Base Sentence 2 (e.g., 'Q OR R'): P->~Q\n",
        "Knowledge Base Sentence 3 (e.g., 'R IMPLIES P'): Q&R"
      ],
      "metadata": {
        "id": "fM-Mv5Uqta5x"
      },
      "execution_count": null,
      "outputs": []
    }
  ]
}