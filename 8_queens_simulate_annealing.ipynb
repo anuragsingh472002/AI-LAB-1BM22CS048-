{
  "nbformat": 4,
  "nbformat_minor": 0,
  "metadata": {
    "colab": {
      "provenance": [],
      "authorship_tag": "ABX9TyOMoGo24JVnD95E7JMks96A",
      "include_colab_link": true
    },
    "kernelspec": {
      "name": "python3",
      "display_name": "Python 3"
    },
    "language_info": {
      "name": "python"
    }
  },
  "cells": [
    {
      "cell_type": "markdown",
      "metadata": {
        "id": "view-in-github",
        "colab_type": "text"
      },
      "source": [
        "<a href=\"https://colab.research.google.com/github/anuragsingh472002/AI-LAB-1BM22CS048-/blob/main/8_queens_simulate_annealing.ipynb\" target=\"_parent\"><img src=\"https://colab.research.google.com/assets/colab-badge.svg\" alt=\"Open In Colab\"/></a>"
      ]
    },
    {
      "cell_type": "code",
      "source": [
        "import random\n",
        "import math\n",
        "\n",
        "# Function to calculate the number of pairs of queens that can attack each other\n",
        "def calculate_conflicts(state):\n",
        "    conflicts = 0\n",
        "    n = len(state)\n",
        "    for i in range(n):\n",
        "        for j in range(i+1, n):\n",
        "            if state[i] == state[j]:  # Same row\n",
        "                conflicts += 1\n",
        "            if abs(state[i] - state[j]) == j - i:  # Same diagonal\n",
        "                conflicts += 1\n",
        "    return conflicts\n",
        "\n",
        "# Function to generate a random initial state (random configuration of queens)\n",
        "def random_state(n):\n",
        "    return [random.randint(0, n-1) for _ in range(n)]\n",
        "\n",
        "# Function to generate a neighbor by randomly moving one queen\n",
        "def generate_neighbor(state):\n",
        "    neighbor = state[:]\n",
        "    col = random.randint(0, len(state) - 1)\n",
        "    new_row = random.randint(0, len(state) - 1)\n",
        "    while new_row == state[col]:  # Ensure the queen moves to a new row\n",
        "        new_row = random.randint(0, len(state) - 1)\n",
        "    neighbor[col] = new_row\n",
        "    return neighbor\n",
        "\n",
        "# Simulated Annealing Algorithm\n",
        "def simulated_annealing(n, initial_temp, cooling_rate, max_iter):\n",
        "    state = random_state(n)\n",
        "    current_temp = initial_temp\n",
        "\n",
        "    # Main loop\n",
        "    for iteration in range(max_iter):\n",
        "        # Calculate the energy (conflicts) of the current state\n",
        "        current_energy = calculate_conflicts(state)\n",
        "\n",
        "        # If the state is a solution (no conflicts), return it\n",
        "        if current_energy == 0:\n",
        "            return state\n",
        "\n",
        "        # Generate a random neighbor\n",
        "        neighbor = generate_neighbor(state)\n",
        "        neighbor_energy = calculate_conflicts(neighbor)\n",
        "\n",
        "        # If the neighbor is better, accept it\n",
        "        if neighbor_energy < current_energy:\n",
        "            state = neighbor\n",
        "        else:\n",
        "            # Otherwise, accept it with some probability (based on temperature)\n",
        "            acceptance_prob = math.exp((current_energy - neighbor_energy) / current_temp)\n",
        "            if random.random() < acceptance_prob:\n",
        "                state = neighbor\n",
        "\n",
        "        # Decrease the temperature\n",
        "        current_temp *= cooling_rate\n",
        "\n",
        "    # If no solution is found after max iterations, return the best state found\n",
        "    return state\n",
        "\n",
        "# Print the solution in a more human-readable way\n",
        "def print_solution(state):\n",
        "    n = len(state)\n",
        "    board = [['Q' if state[i] == j else '.' for j in range(n)] for i in range(n)]\n",
        "    for row in board:\n",
        "        print(' '.join(row))\n",
        "    print()\n",
        "\n",
        "# Main execution\n",
        "if __name__ == \"__main__\":\n",
        "    n = 8  # 8-Queens problem\n",
        "    initial_temp = 1000  # Starting temperature\n",
        "    cooling_rate = 0.995  # Cooling rate\n",
        "    max_iter = 10000  # Maximum number of iterations\n",
        "\n",
        "    solution = simulated_annealing(n, initial_temp, cooling_rate, max_iter)\n",
        "    print(\"Final Solution:\")\n",
        "    print_solution(solution)\n"
      ],
      "metadata": {
        "id": "6tQgdM_0jsn5",
        "colab": {
          "base_uri": "https://localhost:8080/"
        },
        "outputId": "181730b4-167c-46f4-dcb7-a95341c545ab"
      },
      "execution_count": 4,
      "outputs": [
        {
          "output_type": "stream",
          "name": "stdout",
          "text": [
            "Final Solution:\n",
            ". . . . Q . . .\n",
            "Q . . . . . . .\n",
            ". . . Q . . . .\n",
            ". . . . . Q . .\n",
            ". . . . . . . Q\n",
            ". Q . . . . . .\n",
            ". . . . . . Q .\n",
            ". . Q . . . . .\n",
            "\n"
          ]
        }
      ]
    }
  ]
}