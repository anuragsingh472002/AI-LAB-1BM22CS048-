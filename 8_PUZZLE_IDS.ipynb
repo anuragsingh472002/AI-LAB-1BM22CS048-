{
  "nbformat": 4,
  "nbformat_minor": 0,
  "metadata": {
    "colab": {
      "provenance": [],
      "authorship_tag": "ABX9TyN0kUJmW5b9S2pyWKVLdYdA",
      "include_colab_link": true
    },
    "kernelspec": {
      "name": "python3",
      "display_name": "Python 3"
    },
    "language_info": {
      "name": "python"
    }
  },
  "cells": [
    {
      "cell_type": "markdown",
      "metadata": {
        "id": "view-in-github",
        "colab_type": "text"
      },
      "source": [
        "<a href=\"https://colab.research.google.com/github/anuragsingh472002/AI-LAB-1BM22CS048-/blob/main/8_PUZZLE_IDS.ipynb\" target=\"_parent\"><img src=\"https://colab.research.google.com/assets/colab-badge.svg\" alt=\"Open In Colab\"/></a>"
      ]
    },
    {
      "cell_type": "code",
      "execution_count": 1,
      "metadata": {
        "colab": {
          "base_uri": "https://localhost:8080/"
        },
        "id": "oNCWYfMHbkyl",
        "outputId": "a5d50ca5-0a1e-40c1-db24-5ada148adf40"
      },
      "outputs": [
        {
          "output_type": "stream",
          "name": "stdout",
          "text": [
            "Initial State:\n",
            "[1, 2, 3]\n",
            "[4, 0, 6]\n",
            "[7, 5, 8]\n",
            "\n",
            "Goal State:\n",
            "[1, 2, 3]\n",
            "[4, 5, 6]\n",
            "[7, 8, 0]\n",
            "\n",
            "Solution Found! Steps:\n",
            "[1, 2, 3]\n",
            "[4, 0, 6]\n",
            "[7, 5, 8]\n",
            "\n",
            "[1, 2, 3]\n",
            "[4, 5, 6]\n",
            "[7, 0, 8]\n",
            "\n"
          ]
        }
      ],
      "source": [
        "#ITERATIVE DEEPENING SEARCH\n",
        "\n",
        "\n",
        "import copy\n",
        "def find_blank_position(state):\n",
        "    for i in range(len(state)):\n",
        "        for j in range(len(state[i])):\n",
        "            if state[i][j] == 0:\n",
        "                return i, j\n",
        "\n",
        "\n",
        "def get_possible_moves(state):\n",
        "    moves = []\n",
        "    row, col = find_blank_position(state)\n",
        "    if row > 0:  # Move up\n",
        "        moves.append((row - 1, col))\n",
        "    if row < 2:  # Move down\n",
        "        moves.append((row + 1, col))\n",
        "    if col > 0:  # Move left\n",
        "        moves.append((row, col - 1))\n",
        "    if col < 2:  # Move right\n",
        "        moves.append((row, col + 1))\n",
        "    return moves\n",
        "\n",
        "def move_tile(state, new_row, new_col):\n",
        "    row, col = find_blank_position(state)\n",
        "    new_state = copy.deepcopy(state)\n",
        "    new_state[row][col], new_state[new_row][new_col] = new_state[new_row][new_col], new_state[row][col]\n",
        "    return new_state\n",
        "\n",
        "\n",
        "def dfs_with_limit(state, goal, depth, visited):\n",
        "    if state == goal:\n",
        "        return True\n",
        "    if depth == 0:\n",
        "        return False\n",
        "\n",
        "    visited.append(state)\n",
        "    possible_moves = get_possible_moves(state)\n",
        "\n",
        "    for move in possible_moves:\n",
        "        new_state = move_tile(state, move[0], move[1])\n",
        "        if new_state not in visited:\n",
        "            if dfs_with_limit(new_state, goal, depth - 1, visited):\n",
        "                return True\n",
        "    visited.pop()\n",
        "    return False\n",
        "\n",
        "\n",
        "def ids(start, goal):\n",
        "    depth = 0\n",
        "    while True:\n",
        "        visited = []\n",
        "        if dfs_with_limit(start, goal, depth, visited):\n",
        "            return visited\n",
        "        depth += 1\n",
        "\n",
        "\n",
        "def display_state(state):\n",
        "    for row in state:\n",
        "        print(row)\n",
        "    print()\n",
        "\n",
        "\n",
        "start_state = [\n",
        "    [1, 2, 3],\n",
        "    [4, 0, 6],\n",
        "    [7, 5, 8]\n",
        "]\n",
        "\n",
        "goal_state = [\n",
        "    [1, 2, 3],\n",
        "    [4, 5, 6],\n",
        "    [7, 8, 0]\n",
        "]\n",
        "\n",
        "if __name__ == '__main__':\n",
        "    print(\"Initial State:\")\n",
        "    display_state(start_state)\n",
        "\n",
        "    print(\"Goal State:\")\n",
        "    display_state(goal_state)\n",
        "\n",
        "    result = ids(start_state, goal_state)\n",
        "    if result:\n",
        "        print(\"Solution Found! Steps:\")\n",
        "        for step in result:\n",
        "            display_state(step)\n",
        "    else:\n",
        "        print(\"No solution exists!\")"
      ]
    },
    {
      "cell_type": "code",
      "source": [],
      "metadata": {
        "id": "Xir1y8MgeLea"
      },
      "execution_count": null,
      "outputs": []
    }
  ]
}