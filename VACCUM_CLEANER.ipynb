{
  "nbformat": 4,
  "nbformat_minor": 0,
  "metadata": {
    "colab": {
      "provenance": [],
      "authorship_tag": "ABX9TyOIn1gVumFAMedXSNWOVi4Y",
      "include_colab_link": true
    },
    "kernelspec": {
      "name": "python3",
      "display_name": "Python 3"
    },
    "language_info": {
      "name": "python"
    }
  },
  "cells": [
    {
      "cell_type": "markdown",
      "metadata": {
        "id": "view-in-github",
        "colab_type": "text"
      },
      "source": [
        "<a href=\"https://colab.research.google.com/github/anuragsingh472002/AI-LAB-1BM22CS048-/blob/main/VACCUM_CLEANER.ipynb\" target=\"_parent\"><img src=\"https://colab.research.google.com/assets/colab-badge.svg\" alt=\"Open In Colab\"/></a>"
      ]
    },
    {
      "cell_type": "code",
      "execution_count": 1,
      "metadata": {
        "colab": {
          "base_uri": "https://localhost:8080/"
        },
        "id": "cpgA5u6nbvig",
        "outputId": "4447a9dc-4ea9-4cf7-8b36-b748db350007"
      },
      "outputs": [
        {
          "output_type": "stream",
          "name": "stdout",
          "text": [
            "Enter the size of the grid (number of rooms per side): 2\n",
            "Current Environment:\n",
            "c | c\n",
            "d | c\n",
            "\n",
            "Moved right to (0, 1)\n",
            "Current Environment:\n",
            "c | c\n",
            "d | c\n",
            "\n",
            "Moved right to (0, 1)\n",
            "Current Environment:\n",
            "c | c\n",
            "d | c\n",
            "\n",
            "Moved left to (0, 0)\n",
            "Current Environment:\n",
            "c | c\n",
            "d | c\n",
            "\n",
            "Moved down to (1, 0)\n",
            "Cleaned room at (1, 0)\n",
            "Current Environment:\n",
            "c | c\n",
            "c | c\n",
            "\n",
            "Moved left to (1, 0)\n",
            "All rooms are clean! Terminating.\n"
          ]
        }
      ],
      "source": [
        "import random\n",
        "\n",
        "class Room:\n",
        "    def __init__(self):\n",
        "        self.state = 'dirty' if random.random() < 0.5 else 'clean'\n",
        "\n",
        "    def clean(self):\n",
        "        self.state = 'clean'\n",
        "\n",
        "class VacuumCleaner:\n",
        "    def __init__(self, grid_size):\n",
        "        self.grid_size = grid_size\n",
        "        self.environment = [[Room() for _ in range(grid_size)] for _ in range(grid_size)]\n",
        "        self.x, self.y = 0, 0  # Start position\n",
        "\n",
        "    def display_environment(self):\n",
        "        print(\"Current Environment:\")\n",
        "        for row in self.environment:\n",
        "            print(\" | \".join(room.state[0] for room in row))\n",
        "        print()\n",
        "\n",
        "    def move(self, direction):\n",
        "        if direction == 'up' and self.x > 0:\n",
        "            self.x -= 1\n",
        "        elif direction == 'down' and self.x < self.grid_size - 1:\n",
        "            self.x += 1\n",
        "        elif direction == 'left' and self.y > 0:\n",
        "            self.y -= 1\n",
        "        elif direction == 'right' and self.y < self.grid_size - 1:\n",
        "            self.y += 1\n",
        "\n",
        "    def clean_current_room(self):\n",
        "        if self.environment[self.x][self.y].state == 'dirty':\n",
        "            self.environment[self.x][self.y].clean()\n",
        "            print(f\"Cleaned room at ({self.x}, {self.y})\")\n",
        "\n",
        "    def is_all_clean(self):\n",
        "        return all(room.state == 'clean' for row in self.environment for room in row)\n",
        "\n",
        "    def run(self):\n",
        "        while not self.is_all_clean():\n",
        "            self.clean_current_room()\n",
        "            self.display_environment()\n",
        "\n",
        "            # Random move (up, down, left, right)\n",
        "            direction = random.choice(['up', 'down', 'left', 'right'])\n",
        "            self.move(direction)\n",
        "            print(f\"Moved {direction} to ({self.x}, {self.y})\")\n",
        "\n",
        "        print(\"All rooms are clean! Terminating.\")\n",
        "\n",
        "if __name__ == \"__main__\":\n",
        "    grid_size = int(input(\"Enter the size of the grid (number of rooms per side): \"))\n",
        "    vacuum_cleaner = VacuumCleaner(grid_size)\n",
        "    vacuum_cleaner.run()"
      ]
    },
    {
      "cell_type": "code",
      "source": [],
      "metadata": {
        "id": "F-k-kzKtdxBa"
      },
      "execution_count": null,
      "outputs": []
    }
  ]
}